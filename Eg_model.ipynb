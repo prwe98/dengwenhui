{
 "cells": [
  {
   "cell_type": "code",
   "execution_count": 1,
   "id": "atlantic-million",
   "metadata": {},
   "outputs": [],
   "source": [
    "import pandas as pd\n",
    "import numpy as np\n",
    "from sklearn.model_selection import train_test_split\n",
    "from sklearn import preprocessing\n",
    "from sklearn.svm import SVC\n",
    "import pickle\n",
    "from sklearn.svm import SVR\n",
    "import pymatgen.core as mg"
   ]
  },
  {
   "cell_type": "code",
   "execution_count": 2,
   "id": "recovered-raising",
   "metadata": {
    "pycharm": {
     "name": "#%%\n"
    }
   },
   "outputs": [],
   "source": [
    "#read data\n",
    "DE_c = pd.read_excel('./data/Training_Set.xlsx',sheet_name=0)\n",
    "array_c = DE_c.values\n",
    "X_c = array_c[:,3:139]\n",
    "Y_c = array_c[:,2]\n",
    "Y_c = Y_c.astype('int')\n",
    "#train/test split\n",
    "X_train_c, X_test_c, Y_train_c, Y_test_c = train_test_split(X_c, Y_c, test_size=0.1, random_state=15, shuffle=True)\n",
    "#preprocessing\n",
    "scaler_c = preprocessing.StandardScaler().fit(X_train_c)\n",
    "X_train_c = scaler_c.transform(X_train_c)\n",
    "X_test_c = scaler_c.transform(X_test_c)\n",
    "#model construction\n",
    "classification=SVC(kernel='rbf',C=10**1.5, gamma= 0.01).fit(X_train_c, Y_train_c)\n",
    "#save model\n",
    "classification_model=pickle.dumps(classification)"
   ]
  },
  {
   "cell_type": "code",
   "execution_count": null,
   "outputs": [],
   "source": [
    "#read data\n",
    "DE_r = pd.read_excel('./data/Training_Set.xlsx',sheet_name=1)\n",
    "array_r = DE_r.values\n",
    "X_r = array_r[:,2:138]\n",
    "Y_r = array_r[:,1]\n",
    "#train/test split\n",
    "X_train_r, X_test_r, Y_train_r, Y_test_r = train_test_split(X_r, Y_r, test_size=0.1, random_state=15, shuffle=True)\n",
    "#preprocessing\n",
    "scaler_r = preprocessing.StandardScaler().fit(X_train_r)\n",
    "X_train_r = scaler_r.transform(X_train_r)\n",
    "X_test_r = scaler_r.transform(X_test_r)\n",
    "#model construction\n",
    "regression = SVR(kernel='rbf',C=10, epsilon=0.1, gamma= 0.01).fit(X_train_r, Y_train_r)\n",
    "predicted_Y1_r = regression.predict(X_train_r)\n",
    "predicted_Y_r = regression.predict(X_test_r)\n",
    "#save model\n",
    "regression_model=pickle.dumps(regression)\n",
    "\n",
    "prediction = pd.read_excel('./data/to_predict.xlsx')\n",
    "prediction.head()\n",
    "prediction.dtypes"
   ],
   "metadata": {
    "collapsed": false,
    "pycharm": {
     "name": "#%%\n"
    }
   }
  },
  {
   "cell_type": "code",
   "execution_count": null,
   "outputs": [],
   "source": [
    "class Vectorize_Formula:\n",
    "\tdef __init__(self):\n",
    "\t\telem_dict = pd.read_excel(r'./data/elements.xlsx')\n",
    "\t\tself.element_df = pd.DataFrame(elem_dict) \n",
    "\t\tself.element_df.set_index('Symbol',inplace=True)\n",
    "\t\tself.column_names = []\n",
    "\t\tfor string in ['avg','diff','max','min']:\n",
    "\t\t\tfor column_name in list(self.element_df.columns.values):\n",
    "\t\t\t\tself.column_names.append(string+'_'+column_name)\n",
    "\n",
    "\tdef get_features(self, formula):\n",
    "\t\ttry:\n",
    "\t\t\tfractional_composition = mg.Composition(formula).fractional_composition.as_dict()\n",
    "#\t\t\telement_composition = mg.Composition(formula).element_composition.as_dict()\n",
    "\t\t\tavg_feature = np.zeros(len(self.element_df.iloc[0]))\n",
    "#\t\t\tsum_feature = np.zeros(len(self.element_df.iloc[0]))\n",
    "\t\t\tfor key in fractional_composition:\n",
    "\t\t\t\ttry:\n",
    "\t\t\t\t\tavg_feature += self.element_df.loc[key].values * fractional_composition[key]                  \n",
    "\t\t\t\t\tdiff_feature = self.element_df.loc[list(fractional_composition.keys())].max()-self.element_df.loc[list(fractional_composition.keys())].min()\n",
    "\t\t\t\texcept Exception as e: \n",
    "\t\t\t\t\tprint('The element:', key, 'from formula', formula,'is not currently supported in our database')\n",
    "\t\t\t\t\treturn np.array([np.nan]*len(self.element_df.iloc[0])*4)\n",
    "\t\t\tmax_feature = self.element_df.loc[list(fractional_composition.keys())].max()\n",
    "\t\t\tmin_feature = self.element_df.loc[list(fractional_composition.keys())].min()\n",
    "\n",
    "\t\t\tfeatures = pd.DataFrame(np.concatenate([avg_feature, diff_feature, np.array(max_feature), np.array(min_feature)]))\n",
    "\t\t\tfeatures = np.concatenate([avg_feature, diff_feature, np.array(max_feature), np.array(min_feature)])\n",
    "\t\t\treturn features.transpose()\n",
    "\t\texcept:\n",
    "\t\t\tprint('There was an error with the Formula: '+ formula + ', this is a general exception with an unkown error')\n",
    "\t\t\treturn [np.nan]*len(self.element_df.iloc[0])*4"
   ],
   "metadata": {
    "collapsed": false,
    "pycharm": {
     "name": "#%%\n"
    }
   }
  },
  {
   "cell_type": "code",
   "execution_count": null,
   "outputs": [],
   "source": [
    "gf=Vectorize_Formula()\n",
    "features=[]\n",
    "targets=[]\n",
    "for formula in prediction['Composition']:\n",
    "    features.append(gf.get_features(formula))\n",
    "X = pd.DataFrame(features, columns = gf.column_names)\n",
    "pd.set_option('display.max_columns', None)\n",
    "print(X)\n",
    "\n",
    "X_c = scaler_c.transform(X)\n",
    "print(X_c)\n",
    "pred_c = pickle.loads(classification_model)\n",
    "result_c = pred_c.predict(X_c)\n",
    "X_r = scaler_r.transform(X)\n",
    "pred_r = pickle.loads(regression_model)\n",
    "result_r = pred_r.predict(X_r)\n",
    "result=[]\n",
    "for i in range(len(result_c)):\n",
    "    if result_c[i] == 1:\n",
    "        result.append(result_r[i]);\n",
    "    else:\n",
    "        result.append(result_c[i])\n",
    "result = np.around(result,decimals=2)"
   ],
   "metadata": {
    "collapsed": false,
    "pycharm": {
     "name": "#%%\n"
    }
   }
  },
  {
   "cell_type": "code",
   "execution_count": null,
   "outputs": [],
   "source": [
    "composition=pd.read_excel('./data/to_predict.xlsx',sheet_name='Sheet1', usecols=\"A\")\n",
    "composition=pd.DataFrame(composition)\n",
    "result=pd.DataFrame(result)\n",
    "predicted=np.column_stack((composition,result))\n",
    "predicted=pd.DataFrame(predicted)\n",
    "predicted.to_excel('./data/predicted.xlsx', index=False, header=(\"Composition\",\"Predicted Eg\"))\n",
    "print(\"A file named predicted.xlsx has been generated.\\nPlease check your folder.\")"
   ],
   "metadata": {
    "collapsed": false,
    "pycharm": {
     "name": "#%%\n"
    }
   }
  },
  {
   "cell_type": "code",
   "execution_count": null,
   "outputs": [],
   "source": [],
   "metadata": {
    "collapsed": false,
    "pycharm": {
     "name": "#%%\n"
    }
   }
  }
 ],
 "metadata": {
  "kernelspec": {
   "name": "pycharm-4999c2c7",
   "language": "python",
   "display_name": "PyCharm (dengwenhui)"
  },
  "language_info": {
   "codemirror_mode": {
    "name": "ipython",
    "version": 3
   },
   "file_extension": ".py",
   "mimetype": "text/x-python",
   "name": "python",
   "nbconvert_exporter": "python",
   "pygments_lexer": "ipython3",
   "version": "3.7.6"
  }
 },
 "nbformat": 4,
 "nbformat_minor": 5
}